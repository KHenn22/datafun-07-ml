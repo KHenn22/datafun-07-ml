{
 "cells": [
  {
   "cell_type": "markdown",
   "id": "54aa5f5b-6f65-4916-bb69-de62633d6be7",
   "metadata": {},
   "source": [
    "# hennelly_ml.ipynb  \n",
    "**Author:** Kevin Hennelly  \n",
    "\n",
    "[GitHub Repository](https://github.com/KHenn22/datafun-07-ml)"
   ]
  },
  {
   "cell_type": "code",
   "execution_count": null,
   "id": "61c22a11-9600-45fa-977a-bbd54b99994f",
   "metadata": {},
   "outputs": [],
   "source": [
    "# Import statements and setup\n",
    "import pandas as pd\n",
    "import numpy as np\n",
    "import matplotlib.pyplot as plt\n",
    "import seaborn as sns\n",
    "from sklearn.model_selection import train_test_split\n",
    "from sklearn.linear_model import LinearRegression\n",
    "from sklearn.metrics import mean_squared_error, r2_score\n",
    "\n",
    "# Optional: setup or naming conventions\n",
    "pd.set_option('display.max_columns', None)\n",
    "plt.style.use('seaborn-v0_8')"
   ]
  },
  {
   "cell_type": "code",
   "execution_count": null,
   "id": "9fc7bbcd-7b06-46a4-8997-1583b345fb26",
   "metadata": {},
   "outputs": [],
   "source": []
  }
 ],
 "metadata": {
  "kernelspec": {
   "display_name": "Python (datafun-07-ml)",
   "language": "python",
   "name": "datafun-07-ml"
  },
  "language_info": {
   "codemirror_mode": {
    "name": "ipython",
    "version": 3
   },
   "file_extension": ".py",
   "mimetype": "text/x-python",
   "name": "python",
   "nbconvert_exporter": "python",
   "pygments_lexer": "ipython3",
   "version": "3.13.7"
  }
 },
 "nbformat": 4,
 "nbformat_minor": 5
}
