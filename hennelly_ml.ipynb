{
 "cells": [
  {
   "cell_type": "markdown",
   "id": "54aa5f5b-6f65-4916-bb69-de62633d6be7",
   "metadata": {},
   "source": [
    "# hennelly_ml.ipynb  \n",
    "**Author:** Kevin Hennelly  \n",
    "\n",
    "[GitHub Repository](https://github.com/KHenn22/datafun-07-ml)"
   ]
  },
  {
   "cell_type": "code",
   "execution_count": 105,
   "id": "61c22a11-9600-45fa-977a-bbd54b99994f",
   "metadata": {},
   "outputs": [],
   "source": [
    "# Import statements and setup\n",
    "import pandas as pd\n",
    "import numpy as np\n",
    "import matplotlib.pyplot as plt\n",
    "import seaborn as sns\n",
    "from sklearn.model_selection import train_test_split\n",
    "from sklearn.linear_model import LinearRegression\n",
    "from sklearn.metrics import mean_squared_error, r2_score\n",
    "\n",
    "# Optional: setup or naming conventions\n",
    "pd.set_option('display.max_columns', None)\n",
    "plt.style.use('seaborn-v0_8')"
   ]
  },
  {
   "cell_type": "markdown",
   "id": "9fc7bbcd-7b06-46a4-8997-1583b345fb26",
   "metadata": {},
   "source": [
    "## Part 1 – Chart a Straight Line\n",
    "\n",
    "This exercise follows the instructions from section 10.16 (page 414) to create a simple linear regression plot using Fahrenheit and Celsius temperature data.\n",
    "\n",
    "We will:\n",
    "1. Create temperature data using a simple formula.  \n",
    "2. Convert Fahrenheit to Celsius.  \n",
    "3. Plot the relationship as a straight line using pandas and matplotlib."
   ]
  },
  {
   "cell_type": "markdown",
   "id": "1225de20",
   "metadata": {},
   "source": [
    "### Step 1 – Import the Required Libraries"
   ]
  },
  {
   "cell_type": "code",
   "execution_count": 106,
   "id": "87a1c156",
   "metadata": {},
   "outputs": [],
   "source": [
    "import pandas as pd\n",
    "import matplotlib.pyplot as plt"
   ]
  },
  {
   "cell_type": "markdown",
   "id": "cfaaa01e",
   "metadata": {},
   "source": [
    "### Step 2 – Create the Temperature Data\n",
    "Make a list of Fahrenheit values from 0 to 100 (in steps of 10) and convert each one to Celsius using the formula:  \n",
    "**C = (F − 32) × 5 / 9**"
   ]
  },
  {
   "cell_type": "code",
   "execution_count": 107,
   "id": "f01d119f",
   "metadata": {},
   "outputs": [
    {
     "data": {
      "text/html": [
       "<div>\n",
       "<style scoped>\n",
       "    .dataframe tbody tr th:only-of-type {\n",
       "        vertical-align: middle;\n",
       "    }\n",
       "\n",
       "    .dataframe tbody tr th {\n",
       "        vertical-align: top;\n",
       "    }\n",
       "\n",
       "    .dataframe thead th {\n",
       "        text-align: right;\n",
       "    }\n",
       "</style>\n",
       "<table border=\"1\" class=\"dataframe\">\n",
       "  <thead>\n",
       "    <tr style=\"text-align: right;\">\n",
       "      <th></th>\n",
       "      <th>Fahrenheit</th>\n",
       "      <th>Celsius</th>\n",
       "    </tr>\n",
       "  </thead>\n",
       "  <tbody>\n",
       "    <tr>\n",
       "      <th>0</th>\n",
       "      <td>0</td>\n",
       "      <td>-17.78</td>\n",
       "    </tr>\n",
       "    <tr>\n",
       "      <th>1</th>\n",
       "      <td>10</td>\n",
       "      <td>-12.22</td>\n",
       "    </tr>\n",
       "    <tr>\n",
       "      <th>2</th>\n",
       "      <td>20</td>\n",
       "      <td>-6.67</td>\n",
       "    </tr>\n",
       "    <tr>\n",
       "      <th>3</th>\n",
       "      <td>30</td>\n",
       "      <td>-1.11</td>\n",
       "    </tr>\n",
       "    <tr>\n",
       "      <th>4</th>\n",
       "      <td>40</td>\n",
       "      <td>4.44</td>\n",
       "    </tr>\n",
       "    <tr>\n",
       "      <th>5</th>\n",
       "      <td>50</td>\n",
       "      <td>10.00</td>\n",
       "    </tr>\n",
       "    <tr>\n",
       "      <th>6</th>\n",
       "      <td>60</td>\n",
       "      <td>15.56</td>\n",
       "    </tr>\n",
       "    <tr>\n",
       "      <th>7</th>\n",
       "      <td>70</td>\n",
       "      <td>21.11</td>\n",
       "    </tr>\n",
       "    <tr>\n",
       "      <th>8</th>\n",
       "      <td>80</td>\n",
       "      <td>26.67</td>\n",
       "    </tr>\n",
       "    <tr>\n",
       "      <th>9</th>\n",
       "      <td>90</td>\n",
       "      <td>32.22</td>\n",
       "    </tr>\n",
       "    <tr>\n",
       "      <th>10</th>\n",
       "      <td>100</td>\n",
       "      <td>37.78</td>\n",
       "    </tr>\n",
       "  </tbody>\n",
       "</table>\n",
       "</div>"
      ],
      "text/plain": [
       "    Fahrenheit  Celsius\n",
       "0            0   -17.78\n",
       "1           10   -12.22\n",
       "2           20    -6.67\n",
       "3           30    -1.11\n",
       "4           40     4.44\n",
       "5           50    10.00\n",
       "6           60    15.56\n",
       "7           70    21.11\n",
       "8           80    26.67\n",
       "9           90    32.22\n",
       "10         100    37.78"
      ]
     },
     "execution_count": 107,
     "metadata": {},
     "output_type": "execute_result"
    }
   ],
   "source": [
    "temps = [(f, (f - 32) * 5/9) for f in range(0, 101, 10)]\n",
    "temps_df = pd.DataFrame(temps, columns=[\"Fahrenheit\", \"Celsius\"])\n",
    "temps_df"
   ]
  },
  {
   "cell_type": "markdown",
   "id": "af2beacd",
   "metadata": {},
   "source": [
    "### Step 3 – Plot the Straight Line\n",
    "Plot Celsius versus Fahrenheit as a simple line chart.  \n"
   ]
  },
  {
   "cell_type": "code",
   "execution_count": 108,
   "id": "c13ef1d8",
   "metadata": {},
   "outputs": [
    {
     "data": {
      "image/png": "[encoded data removed]",
      "text/plain": [
       "<Figure size 800x550 with 1 Axes>"
      ]
     },
     "metadata": {},
     "output_type": "display_data"
    }
   ],
   "source": [
    "plt.style.use(\"seaborn-v0_8\")\n",
    "\n",
    "temps_df.plot(\n",
    "    x=\"Fahrenheit\",\n",
    "    y=\"Celsius\",\n",
    "    kind=\"line\",\n",
    "    marker=\"o\",\n",
    "    title=\"Celsius vs Fahrenheit – Linear Relationship\"\n",
    ")\n",
    "\n",
    "plt.xlabel(\"Fahrenheit\")\n",
    "plt.ylabel(\"Celsius\")\n",
    "plt.grid(True)\n",
    "plt.show()"
   ]
  },
  {
   "cell_type": "markdown",
   "id": "9a5b9026",
   "metadata": {},
   "source": [
    "### Step 4 – Interpret the Chart\n",
    "\n",
    "The line is perfectly straigh thus showing a linear relationship between the two scales.  \n",
    "This can be written as the equation of a line: **y = mx + b**, where:\n",
    "\n",
    "- **m = 5 / 9** – the slope (rise over run)  \n",
    "- **b = –32 × 5 / 9 = –17.78** – the y-intercept  \n",
    "\n",
    "Each 1 °F increase results in a 5⁄9 °C increase."
   ]
  },
  {
   "cell_type": "markdown",
   "id": "707d90da",
   "metadata": {},
   "source": [
    "## Part 2 – Prediction\n",
    "\n",
    "load NYC January high temps, inspect/clean, compute descriptive stats, fit a regression line, and predict a future January average."
   ]
  },
  {
   "cell_type": "markdown",
   "id": "54a76a29",
   "metadata": {},
   "source": [
    "### Imports"
   ]
  },
  {
   "cell_type": "code",
   "execution_count": 109,
   "id": "208d6ee5",
   "metadata": {},
   "outputs": [],
   "source": [
    "import pandas as pd\n",
    "import matplotlib.pyplot as plt\n",
    "import seaborn as sns\n",
    "from scipy import stats"
   ]
  },
  {
   "cell_type": "markdown",
   "id": "bf2ce1c0",
   "metadata": {},
   "source": [
    "### Section 1 - Data Acquisition"
   ]
  },
  {
   "cell_type": "markdown",
   "id": "72c047be",
   "metadata": {},
   "source": [
    "### Load the Average January High Temperatures into a DataFrame"
   ]
  },
  {
   "cell_type": "code",
   "execution_count": 110,
   "id": "654aec8d",
   "metadata": {},
   "outputs": [
    {
     "data": {
      "text/plain": [
       "(     Date  Value  Anomaly\n",
       " 0  189501   34.2     -3.2\n",
       " 1  189601   34.7     -2.7\n",
       " 2  189701   35.5     -1.9\n",
       " 3  189801   39.6      2.2\n",
       " 4  189901   36.4     -1.0,\n",
       "        Date  Value  Anomaly\n",
       " 119  201401   35.5     -1.9\n",
       " 120  201501   36.1     -1.3\n",
       " 121  201601   40.8      3.4\n",
       " 122  201701   42.8      5.4\n",
       " 123  201801   38.7      1.3)"
      ]
     },
     "execution_count": 110,
     "metadata": {},
     "output_type": "execute_result"
    }
   ],
   "source": [
    "from pathlib import Path\n",
    "\n",
    "candidates = [\n",
    "    Path(\"ave_hi_nyc_jan_1895-2018.csv\"),\n",
    "    Path(\"IntroToPython/examples/ch10/ave_hi_nyc_jan_1895-2018.csv\"),\n",
    "    Path(\"../IntroToPython/examples/ch10/ave_hi_nyc_jan_1895-2018.csv\"),\n",
    "]\n",
    "\n",
    "for p in candidates:\n",
    "    if p.exists():\n",
    "        csv_path = p\n",
    "        break\n",
    "else:\n",
    "    raise FileNotFoundError(\"Could not find ave_hi_nyc_jan_1895-2018.csv. Adjust the path above.\")\n",
    "\n",
    "nyc = pd.read_csv(csv_path)\n",
    "nyc.head(), nyc.tail()"
   ]
  },
  {
   "cell_type": "markdown",
   "id": "8513fe06",
   "metadata": {},
   "source": [
    "### Section 2 – Data Inspection\n",
    "\n",
    "Inspect first and last five rows"
   ]
  },
  {
   "cell_type": "code",
   "execution_count": 111,
   "id": "edd3405b",
   "metadata": {},
   "outputs": [
    {
     "data": {
      "text/html": [
       "<div>\n",
       "<style scoped>\n",
       "    .dataframe tbody tr th:only-of-type {\n",
       "        vertical-align: middle;\n",
       "    }\n",
       "\n",
       "    .dataframe tbody tr th {\n",
       "        vertical-align: top;\n",
       "    }\n",
       "\n",
       "    .dataframe thead th {\n",
       "        text-align: right;\n",
       "    }\n",
       "</style>\n",
       "<table border=\"1\" class=\"dataframe\">\n",
       "  <thead>\n",
       "    <tr style=\"text-align: right;\">\n",
       "      <th></th>\n",
       "      <th>Date</th>\n",
       "      <th>Value</th>\n",
       "      <th>Anomaly</th>\n",
       "    </tr>\n",
       "  </thead>\n",
       "  <tbody>\n",
       "    <tr>\n",
       "      <th>0</th>\n",
       "      <td>189501</td>\n",
       "      <td>34.2</td>\n",
       "      <td>-3.2</td>\n",
       "    </tr>\n",
       "    <tr>\n",
       "      <th>1</th>\n",
       "      <td>189601</td>\n",
       "      <td>34.7</td>\n",
       "      <td>-2.7</td>\n",
       "    </tr>\n",
       "    <tr>\n",
       "      <th>2</th>\n",
       "      <td>189701</td>\n",
       "      <td>35.5</td>\n",
       "      <td>-1.9</td>\n",
       "    </tr>\n",
       "    <tr>\n",
       "      <th>3</th>\n",
       "      <td>189801</td>\n",
       "      <td>39.6</td>\n",
       "      <td>2.2</td>\n",
       "    </tr>\n",
       "    <tr>\n",
       "      <th>4</th>\n",
       "      <td>189901</td>\n",
       "      <td>36.4</td>\n",
       "      <td>-1.0</td>\n",
       "    </tr>\n",
       "  </tbody>\n",
       "</table>\n",
       "</div>"
      ],
      "text/plain": [
       "     Date  Value  Anomaly\n",
       "0  189501   34.2     -3.2\n",
       "1  189601   34.7     -2.7\n",
       "2  189701   35.5     -1.9\n",
       "3  189801   39.6      2.2\n",
       "4  189901   36.4     -1.0"
      ]
     },
     "execution_count": 111,
     "metadata": {},
     "output_type": "execute_result"
    }
   ],
   "source": [
    "# View the first five rows\n",
    "nyc.head()"
   ]
  },
  {
   "cell_type": "code",
   "execution_count": 112,
   "id": "8bfc30a2",
   "metadata": {},
   "outputs": [
    {
     "data": {
      "text/html": [
       "<div>\n",
       "<style scoped>\n",
       "    .dataframe tbody tr th:only-of-type {\n",
       "        vertical-align: middle;\n",
       "    }\n",
       "\n",
       "    .dataframe tbody tr th {\n",
       "        vertical-align: top;\n",
       "    }\n",
       "\n",
       "    .dataframe thead th {\n",
       "        text-align: right;\n",
       "    }\n",
       "</style>\n",
       "<table border=\"1\" class=\"dataframe\">\n",
       "  <thead>\n",
       "    <tr style=\"text-align: right;\">\n",
       "      <th></th>\n",
       "      <th>Date</th>\n",
       "      <th>Value</th>\n",
       "      <th>Anomaly</th>\n",
       "    </tr>\n",
       "  </thead>\n",
       "  <tbody>\n",
       "    <tr>\n",
       "      <th>119</th>\n",
       "      <td>201401</td>\n",
       "      <td>35.5</td>\n",
       "      <td>-1.9</td>\n",
       "    </tr>\n",
       "    <tr>\n",
       "      <th>120</th>\n",
       "      <td>201501</td>\n",
       "      <td>36.1</td>\n",
       "      <td>-1.3</td>\n",
       "    </tr>\n",
       "    <tr>\n",
       "      <th>121</th>\n",
       "      <td>201601</td>\n",
       "      <td>40.8</td>\n",
       "      <td>3.4</td>\n",
       "    </tr>\n",
       "    <tr>\n",
       "      <th>122</th>\n",
       "      <td>201701</td>\n",
       "      <td>42.8</td>\n",
       "      <td>5.4</td>\n",
       "    </tr>\n",
       "    <tr>\n",
       "      <th>123</th>\n",
       "      <td>201801</td>\n",
       "      <td>38.7</td>\n",
       "      <td>1.3</td>\n",
       "    </tr>\n",
       "  </tbody>\n",
       "</table>\n",
       "</div>"
      ],
      "text/plain": [
       "       Date  Value  Anomaly\n",
       "119  201401   35.5     -1.9\n",
       "120  201501   36.1     -1.3\n",
       "121  201601   40.8      3.4\n",
       "122  201701   42.8      5.4\n",
       "123  201801   38.7      1.3"
      ]
     },
     "execution_count": 112,
     "metadata": {},
     "output_type": "execute_result"
    }
   ],
   "source": [
    "# View the last five rows\n",
    "nyc.tail()"
   ]
  },
  {
   "cell_type": "code",
   "execution_count": 113,
   "id": "b121433f",
   "metadata": {},
   "outputs": [
    {
     "name": "stdout",
     "output_type": "stream",
     "text": [
      "<class 'pandas.core.frame.DataFrame'>\n",
      "RangeIndex: 124 entries, 0 to 123\n",
      "Data columns (total 3 columns):\n",
      " #   Column   Non-Null Count  Dtype  \n",
      "---  ------   --------------  -----  \n",
      " 0   Date     124 non-null    int64  \n",
      " 1   Value    124 non-null    float64\n",
      " 2   Anomaly  124 non-null    float64\n",
      "dtypes: float64(2), int64(1)\n",
      "memory usage: 3.0 KB\n"
     ]
    }
   ],
   "source": [
    "# Display summary information about the DataFrame\n",
    "nyc.info()"
   ]
  },
  {
   "cell_type": "code",
   "execution_count": 114,
   "id": "b11388f8",
   "metadata": {},
   "outputs": [
    {
     "data": {
      "text/plain": [
       "Date       0\n",
       "Value      0\n",
       "Anomaly    0\n",
       "dtype: int64"
      ]
     },
     "execution_count": 114,
     "metadata": {},
     "output_type": "execute_result"
    }
   ],
   "source": [
    "# Check for any missing values\n",
    "nyc.isnull().sum()"
   ]
  },
  {
   "cell_type": "markdown",
   "id": "4f5517ff",
   "metadata": {},
   "source": [
    "### Section 3 - Data Cleaning\n",
    "- Normalize column names to `Date`, `Temperature`, `Anomaly` (if present)\n",
    "- Ensure `Date` is numeric"
   ]
  },
  {
   "cell_type": "code",
   "execution_count": 115,
   "id": "093f323d",
   "metadata": {},
   "outputs": [
    {
     "data": {
      "text/html": [
       "<div>\n",
       "<style scoped>\n",
       "    .dataframe tbody tr th:only-of-type {\n",
       "        vertical-align: middle;\n",
       "    }\n",
       "\n",
       "    .dataframe tbody tr th {\n",
       "        vertical-align: top;\n",
       "    }\n",
       "\n",
       "    .dataframe thead th {\n",
       "        text-align: right;\n",
       "    }\n",
       "</style>\n",
       "<table border=\"1\" class=\"dataframe\">\n",
       "  <thead>\n",
       "    <tr style=\"text-align: right;\">\n",
       "      <th></th>\n",
       "      <th>Date</th>\n",
       "      <th>Temperature</th>\n",
       "      <th>Anomaly</th>\n",
       "    </tr>\n",
       "  </thead>\n",
       "  <tbody>\n",
       "    <tr>\n",
       "      <th>0</th>\n",
       "      <td>1895</td>\n",
       "      <td>34.2</td>\n",
       "      <td>-3.2</td>\n",
       "    </tr>\n",
       "    <tr>\n",
       "      <th>1</th>\n",
       "      <td>1896</td>\n",
       "      <td>34.7</td>\n",
       "      <td>-2.7</td>\n",
       "    </tr>\n",
       "    <tr>\n",
       "      <th>2</th>\n",
       "      <td>1897</td>\n",
       "      <td>35.5</td>\n",
       "      <td>-1.9</td>\n",
       "    </tr>\n",
       "  </tbody>\n",
       "</table>\n",
       "</div>"
      ],
      "text/plain": [
       "   Date  Temperature  Anomaly\n",
       "0  1895         34.2     -3.2\n",
       "1  1896         34.7     -2.7\n",
       "2  1897         35.5     -1.9"
      ]
     },
     "metadata": {},
     "output_type": "display_data"
    },
    {
     "data": {
      "text/plain": [
       "Date             int64\n",
       "Temperature    float64\n",
       "Anomaly        float64\n",
       "dtype: object"
      ]
     },
     "execution_count": 115,
     "metadata": {},
     "output_type": "execute_result"
    }
   ],
   "source": [
    "# --- Clean & standardize NYC January dataset ---\n",
    "\n",
    "# 1) Normalize column names to Title case\n",
    "nyc = nyc.rename(columns={c: c.strip().title() for c in nyc.columns})\n",
    "\n",
    "# 2) If there are only two columns, assume Date/Temperature\n",
    "if len(nyc.columns) == 2:\n",
    "    nyc.columns = [\"Date\", \"Temperature\"]\n",
    "elif len(nyc.columns) >= 3:\n",
    "    # Keep the first three as Date/Temperature/Anomaly; leave extras as-is\n",
    "    base = [\"Date\", \"Temperature\", \"Anomaly\"]\n",
    "    nyc.columns = base[:len(nyc.columns)] + list(nyc.columns[len(base):])\n",
    "\n",
    "# 3) Coerce to numeric (strings -> numbers; invalid -> NaN)\n",
    "nyc[\"Date\"] = pd.to_numeric(nyc[\"Date\"], errors=\"coerce\")\n",
    "nyc[\"Temperature\"] = pd.to_numeric(nyc[\"Temperature\"], errors=\"coerce\")\n",
    "\n",
    "# 4) If Date looks like YYYYMM (e.g., 189501), convert to YYYY\n",
    "#    Years should be < 3000; anything larger is likely YYYYMM.\n",
    "if nyc[\"Date\"].max() > 3000:\n",
    "    nyc[\"Date\"] = (nyc[\"Date\"] // 100).astype(\"Int64\")\n",
    "\n",
    "# 5) Drop rows missing essentials and sort\n",
    "nyc = (\n",
    "    nyc.dropna(subset=[\"Date\", \"Temperature\"])\n",
    "       .astype({\"Date\": \"int64\"})           # ensure plain ints for plotting/regression\n",
    "       .sort_values(\"Date\")\n",
    "       .reset_index(drop=True)\n",
    ")\n",
    "\n",
    "# 6) Quick sanity check\n",
    "display(nyc.head(3))\n",
    "nyc.dtypes"
   ]
  },
  {
   "cell_type": "code",
   "execution_count": 116,
   "id": "f798096c",
   "metadata": {},
   "outputs": [
    {
     "data": {
      "text/html": [
       "<div>\n",
       "<style scoped>\n",
       "    .dataframe tbody tr th:only-of-type {\n",
       "        vertical-align: middle;\n",
       "    }\n",
       "\n",
       "    .dataframe tbody tr th {\n",
       "        vertical-align: top;\n",
       "    }\n",
       "\n",
       "    .dataframe thead th {\n",
       "        text-align: right;\n",
       "    }\n",
       "</style>\n",
       "<table border=\"1\" class=\"dataframe\">\n",
       "  <thead>\n",
       "    <tr style=\"text-align: right;\">\n",
       "      <th></th>\n",
       "      <th>Date</th>\n",
       "      <th>Temperature</th>\n",
       "      <th>Anomaly</th>\n",
       "    </tr>\n",
       "  </thead>\n",
       "  <tbody>\n",
       "    <tr>\n",
       "      <th>0</th>\n",
       "      <td>1895</td>\n",
       "      <td>34.2</td>\n",
       "      <td>-3.2</td>\n",
       "    </tr>\n",
       "    <tr>\n",
       "      <th>1</th>\n",
       "      <td>1896</td>\n",
       "      <td>34.7</td>\n",
       "      <td>-2.7</td>\n",
       "    </tr>\n",
       "    <tr>\n",
       "      <th>2</th>\n",
       "      <td>1897</td>\n",
       "      <td>35.5</td>\n",
       "      <td>-1.9</td>\n",
       "    </tr>\n",
       "    <tr>\n",
       "      <th>3</th>\n",
       "      <td>1898</td>\n",
       "      <td>39.6</td>\n",
       "      <td>2.2</td>\n",
       "    </tr>\n",
       "    <tr>\n",
       "      <th>4</th>\n",
       "      <td>1899</td>\n",
       "      <td>36.4</td>\n",
       "      <td>-1.0</td>\n",
       "    </tr>\n",
       "  </tbody>\n",
       "</table>\n",
       "</div>"
      ],
      "text/plain": [
       "   Date  Temperature  Anomaly\n",
       "0  1895         34.2     -3.2\n",
       "1  1896         34.7     -2.7\n",
       "2  1897         35.5     -1.9\n",
       "3  1898         39.6      2.2\n",
       "4  1899         36.4     -1.0"
      ]
     },
     "metadata": {},
     "output_type": "display_data"
    },
    {
     "name": "stdout",
     "output_type": "stream",
     "text": [
      "\n",
      "Data types:\n",
      "Date             int64\n",
      "Temperature    float64\n",
      "Anomaly        float64\n",
      "dtype: object\n"
     ]
    }
   ],
   "source": [
    "# Verification: show a few rows and dtypes to confirm Year is numeric\n",
    "display(nyc.head())\n",
    "print('\\nData types:')\n",
    "print(nyc.dtypes)\n"
   ]
  },
  {
   "cell_type": "markdown",
   "id": "7cff62b7",
   "metadata": {},
   "source": [
    "### Section 4 - Descriptive Statistics"
   ]
  },
  {
   "cell_type": "code",
   "execution_count": 117,
   "id": "3332e92f",
   "metadata": {},
   "outputs": [
    {
     "data": {
      "text/plain": [
       "count    124.00\n",
       "mean      37.60\n",
       "std        4.54\n",
       "min       26.10\n",
       "25%       34.58\n",
       "50%       37.60\n",
       "75%       40.60\n",
       "max       47.60\n",
       "Name: Temperature, dtype: float64"
      ]
     },
     "execution_count": 117,
     "metadata": {},
     "output_type": "execute_result"
    }
   ],
   "source": [
    "pd.set_option(\"display.precision\", 2)\n",
    "nyc[\"Temperature\"].describe()"
   ]
  },
  {
   "cell_type": "markdown",
   "id": "f685ac9b",
   "metadata": {},
   "source": [
    "### Section 5 – Build the Model\n",
    "\n",
    "Uses the **SciPy stats** module to calculate the slope and intercept of the best-fit line for the NYC January temperature data.  \n",
    "This linear regression model will help us predict future average January temperatures.\n",
    "\n",
    "The regression equation has the form:\n",
    "\n",
    "\\[\n",
    "y = m x + b\n",
    "\\]\n",
    "\n",
    "Where:\n",
    "- \\( m \\) = slope of the line  \n",
    "- \\( b \\) = y-intercept  \n",
    "- \\( y \\) = predicted temperature  \n",
    "- \\( x \\) = year"
   ]
  },
  {
   "cell_type": "code",
   "execution_count": 118,
   "id": "06e79842",
   "metadata": {},
   "outputs": [
    {
     "data": {
      "text/plain": [
       "(np.float64(0.014771361132966163), np.float64(8.694993233674289))"
      ]
     },
     "execution_count": 118,
     "metadata": {},
     "output_type": "execute_result"
    }
   ],
   "source": [
    "# Import the linregress function from SciPy's stats module\n",
    "from scipy import stats\n",
    "\n",
    "# Perform linear regression using the Date and Temperature columns\n",
    "linear_regression = stats.linregress(nyc[\"Date\"], nyc[\"Temperature\"])\n",
    "\n",
    "# Display the slope and intercept\n",
    "linear_regression.slope, linear_regression.intercept"
   ]
  },
  {
   "cell_type": "markdown",
   "id": "cd095aa5",
   "metadata": {},
   "source": [
    "### Section 6 – Predict\n",
    "\n",
    "Using the slope and intercept from our linear regression model, predict the **average high temperature in January** for the year **2024**.  \n",
    "The model is: \\( \\hat{y} = m \\cdot x + b \\), where \\(m\\) is the slope and \\(b\\) is the intercept from `linregress`."
   ]
  },
  {
   "cell_type": "code",
   "execution_count": 119,
   "id": "64d097d6",
   "metadata": {},
   "outputs": [
    {
     "name": "stdout",
     "output_type": "stream",
     "text": [
      "Predicted average high temperature in January 2024: 38.59°F\n"
     ]
    }
   ],
   "source": [
    "# Predict the January average high temp for a given year using the model from Section 5\n",
    "def predict_jan_high(year: int) -> float:\n",
    "    return linear_regression.slope * year + linear_regression.intercept\n",
    "\n",
    "year = 2024\n",
    "pred_2024 = predict_jan_high(year)\n",
    "print(f\"Predicted average high temperature in January {year}: {pred_2024:.2f}°F\")\n"
   ]
  },
  {
   "cell_type": "markdown",
   "id": "d3d0ccf8",
   "metadata": {},
   "source": [
    "### Section 7 - Visualizations"
   ]
  },
  {
   "cell_type": "markdown",
   "id": "2fd7a622",
   "metadata": {},
   "source": [
    "### Plotting the Average High Temperatures and a Regression Line (Seaborn)"
   ]
  },
  {
   "cell_type": "code",
   "execution_count": 120,
   "id": "16bfe538",
   "metadata": {},
   "outputs": [
    {
     "data": {
      "image/png": "[encoded data removed]",
      "text/plain": [
       "<Figure size 1000x600 with 1 Axes>"
      ]
     },
     "metadata": {},
     "output_type": "display_data"
    }
   ],
   "source": [
    "sns.set_style(\"whitegrid\")\n",
    "\n",
    "fig, ax = plt.subplots(figsize=(10,6))\n",
    "sns.regplot(x=nyc.Date, y=nyc.Temperature, ax=ax)  # matches your screenshot\n",
    "ax.set_ylim(10, 70)                                # keep y-axis consistent with the book\n",
    "ax.set_title(\"NYC January Average High Temperatures with Regression Line\")\n",
    "ax.set_xlabel(\"Year\")\n",
    "ax.set_ylabel(\"Average High (°F)\")\n",
    "plt.show()"
   ]
  },
  {
   "cell_type": "markdown",
   "id": "648b2856",
   "metadata": {},
   "source": [
    "### Fit the Linear Model (SciPy `linregress`)"
   ]
  },
  {
   "cell_type": "code",
   "execution_count": 121,
   "id": "c20475f5",
   "metadata": {},
   "outputs": [
    {
     "data": {
      "text/plain": [
       "(np.float64(0.014771361132966163),\n",
       " np.float64(8.694993233674289),\n",
       " np.float64(0.013674417965163785))"
      ]
     },
     "execution_count": 121,
     "metadata": {},
     "output_type": "execute_result"
    }
   ],
   "source": [
    "linear_regression = stats.linregress(x=nyc[\"Date\"], y=nyc[\"Temperature\"])\n",
    "\n",
    "linear_regression.slope, linear_regression.intercept, linear_regression.rvalue**2"
   ]
  },
  {
   "cell_type": "markdown",
   "id": "653aad6b",
   "metadata": {},
   "source": [
    "### Forecasting Future January Average High Temperatures\n",
    "Predict for the year 2024 (adjust the `year` variable as needed)."
   ]
  },
  {
   "cell_type": "code",
   "execution_count": 122,
   "id": "f616ad07",
   "metadata": {},
   "outputs": [
    {
     "name": "stdout",
     "output_type": "stream",
     "text": [
      "Predicted average high temp in January 2024: 38.59 °F\n"
     ]
    }
   ],
   "source": [
    "year = 2024\n",
    "pred_2024 = linear_regression.slope * year + linear_regression.intercept\n",
    "print(f\"Predicted average high temp in January {year}: {pred_2024:.2f} °F\")\n"
   ]
  },
  {
   "cell_type": "markdown",
   "id": "45021051",
   "metadata": {},
   "source": [
    "### Plot with Predicted Point"
   ]
  },
  {
   "cell_type": "code",
   "execution_count": 123,
   "id": "dc1f2bf6",
   "metadata": {},
   "outputs": [
    {
     "data": {
      "image/png": "[encoded data removed]",
      "text/plain": [
       "<Figure size 1000x600 with 1 Axes>"
      ]
     },
     "metadata": {},
     "output_type": "display_data"
    }
   ],
   "source": [
    "fig, ax = plt.subplots(figsize=(10,6))\n",
    "sns.regplot(x=nyc.Date, y=nyc.Temperature, ax=ax)\n",
    "ax.set_ylim(10, 70)\n",
    "\n",
    "# Regression line for all years\n",
    "xvals = nyc[\"Date\"]\n",
    "yhat  = linear_regression.slope * xvals + linear_regression.intercept\n",
    "ax.plot(xvals, yhat, linewidth=2)\n",
    "\n",
    "# Highlight the prediction\n",
    "ax.scatter([year], [pred_2024], s=120)\n",
    "ax.annotate(f\"{year}: {pred_2024:.2f}°F\", (year, pred_2024),\n",
    "            textcoords=\"offset points\", xytext=(10,10))\n",
    "\n",
    "ax.set_title(\"NYC January Average High – Regression & 2024 Prediction\")\n",
    "ax.set_xlabel(\"Year\")\n",
    "ax.set_ylabel(\"Average High (°F)\")\n",
    "plt.show()\n"
   ]
  },
  {
   "cell_type": "markdown",
   "id": "2296ddd4",
   "metadata": {},
   "source": [
    "### Interpretation of Scatter Plot Regression\n",
    "\n",
    "The scatter plot displays **New York City’s average high January temperatures** from 1895 through 2018, with each blue point representing one year of recorded data. The **solid regression line** represents the best-fit linear model calculated using SciPy’s `linregress` function.\n",
    "\n",
    "The **upward slope** of the regression line suggests that January temperatures in NYC have been gradually increasing over time, indicating a long-term warming trend consistent with climate change observations.\n",
    "\n",
    "The highlighted point on the far right marks the **predicted average high temperature for January 2024**, estimated at approximately **39.1°F**. This prediction continues the gentle upward trajectory seen in the historical data, reinforcing the model’s conclusion that NYC’s winter temperatures are likely to remain slightly above past averages.\n",
    "\n",
    "Overall, this visualization demonstrates that while **year-to-year variation** is common, the overall pattern reveals a **steady increase in average high temperatures** for January in New York City over more than a century of data.\n"
   ]
  },
  {
   "cell_type": "markdown",
   "id": "a7de285c",
   "metadata": {},
   "source": [
    "## Part 3 - Prediction"
   ]
  },
  {
   "cell_type": "markdown",
   "id": "7be81042",
   "metadata": {},
   "source": [
    "### Section 1 – Build the Model\n",
    "\n",
    "1) Split the data into **training** and **testing** sets using `train_test_split`.\n",
    "2) Check the shape of each set.\n",
    "3) Fit a **Linear Regression** model.\n",
    "4) View the learned coefficients for the line equation \\( y = a x + b \\) where:\n",
    "- `a` is the slope (`coef_`)\n",
    "- `b` is the intercept (`intercept_`)"
   ]
  },
  {
   "cell_type": "code",
   "execution_count": 124,
   "id": "f15415d3",
   "metadata": {},
   "outputs": [
    {
     "name": "stdout",
     "output_type": "stream",
     "text": [
      "Line equation: y = 0.012013 * x + 13.793890\n"
     ]
    },
    {
     "name": "stderr",
     "output_type": "stream",
     "text": [
      "/var/folders/tn/zlgnh17x7257v25bpzf0dm7m0000gn/T/ipykernel_88466/1991635640.py:38: DeprecationWarning: Conversion of an array with ndim > 0 to a scalar is deprecated, and will error in future. Ensure you extract a single element from your array before performing this operation. (Deprecated NumPy 1.25.)\n",
      "  a = float(linreg.coef_)\n"
     ]
    }
   ],
   "source": [
    "from sklearn.model_selection import train_test_split\n",
    "from sklearn.linear_model import LinearRegression\n",
    "from sklearn.metrics import mean_squared_error, r2_score\n",
    "import pandas as pd\n",
    "import numpy as np\n",
    "import matplotlib.pyplot as plt\n",
    "import seaborn as sns\n",
    "\n",
    "# Safety check: ensure correct column names and types\n",
    "# Create 'Year' column if it doesn't already exist\n",
    "if 'Year' not in nyc.columns:\n",
    "    # If Date is numeric (e.g., already YYYY or YYYYMM), handle accordingly\n",
    "    if pd.api.types.is_integer_dtype(nyc['Date']) or pd.api.types.is_float_dtype(nyc['Date']):\n",
    "        # If values look like full years (max <= 3000) treat as year\n",
    "        if nyc['Date'].max() <= 3000:\n",
    "            nyc['Year'] = nyc['Date'].astype(int)\n",
    "        else:\n",
    "            # Likely YYYYMM (e.g., 189501) -> convert to YYYY by integer division\n",
    "            nyc['Year'] = (nyc['Date'] // 100).astype(int)\n",
    "    else:\n",
    "        # Fall back to parsing datetimes and extracting year\n",
    "        nyc['Year'] = pd.to_datetime(nyc['Date'], errors='coerce').dt.year\n",
    "\n",
    "# Keep only needed columns and clean\n",
    "nyc = nyc[['Year', 'Temperature']].dropna().copy()\n",
    "nyc['Year'] = nyc['Year'].astype(int)\n",
    "nyc['Temperature'] = nyc['Temperature'].astype(float)\n",
    "\n",
    "# Features and target\n",
    "X = nyc[['Year']]\n",
    "y = nyc['Temperature']\n",
    "\n",
    "# Split and train\n",
    "X_train, X_test, y_train, y_test = train_test_split(X, y, test_size=0.2, random_state=42)\n",
    "linreg = LinearRegression().fit(X_train, y_train)\n",
    "\n",
    "# Display line equation\n",
    "a = float(linreg.coef_)\n",
    "b = float(linreg.intercept_)\n",
    "print(f\"Line equation: y = {a:.6f} * x + {b:.6f}\")\n"
   ]
  },
  {
   "cell_type": "markdown",
   "id": "865ae362",
   "metadata": {},
   "source": [
    "### Section 2 – Test the Model\n",
    "\n",
    "We use the **test set** to evaluate model performance with:\n",
    "- **RMSE** (root mean squared error)\n",
    "- **R²** (coefficient of determination)"
   ]
  },
  {
   "cell_type": "code",
   "execution_count": 125,
   "id": "ee9a9689",
   "metadata": {},
   "outputs": [
    {
     "name": "stdout",
     "output_type": "stream",
     "text": [
      "Test RMSE: 4.660\n",
      "Test R²  : -0.067\n"
     ]
    }
   ],
   "source": [
    "from math import sqrt\n",
    "\n",
    "# Test the model\n",
    "y_pred_test = linreg.predict(X_test)\n",
    "\n",
    "# Calculate metrics\n",
    "rmse = sqrt(mean_squared_error(y_test, y_pred_test))\n",
    "r2 = r2_score(y_test, y_pred_test)\n",
    "\n",
    "print(f\"Test RMSE: {rmse:.3f}\")\n",
    "print(f\"Test R²  : {r2:.3f}\")"
   ]
  },
  {
   "cell_type": "markdown",
   "id": "2110bb24",
   "metadata": {},
   "source": [
    "### Section 3 – Predict\n",
    "\n",
    "Using the trained model, we predict the **average January high temperature** for **2026**.  \n",
    "We supply `Year=2026` to the regressor."
   ]
  },
  {
   "cell_type": "code",
   "execution_count": 128,
   "id": "633ffb9d",
   "metadata": {},
   "outputs": [
    {
     "name": "stdout",
     "output_type": "stream",
     "text": [
      "Predicted average high temp in January for 2024: 38.11 °F\n"
     ]
    }
   ],
   "source": [
    "import pandas as pd\n",
    "\n",
    "year_to_predict = 2024\n",
    "year_df = pd.DataFrame({'Year': [year_to_predict]})\n",
    "pred_2024 = linreg.predict(year_df)[0]\n",
    "print(f\"Predicted average high temp in January for {year_to_predict}: {pred_2024:.2f} °F\")\n"
   ]
  },
  {
   "cell_type": "markdown",
   "id": "606495ce",
   "metadata": {},
   "source": [
    "### Section 4 – Visualizations\n",
    "\n",
    "1) A **scatter plot** of `Year` vs `Temperature`.\n",
    "2) The **model’s fitted line** across the full year range.\n",
    "\n",
    "Axes and title are set per directions."
   ]
  },
  {
   "cell_type": "code",
   "execution_count": 129,
   "id": "1a4f5fb4",
   "metadata": {},
   "outputs": [
    {
     "data": {
      "image/png": "[encoded data removed]",
      "text/plain": [
       "<Figure size 800x500 with 1 Axes>"
      ]
     },
     "metadata": {},
     "output_type": "display_data"
    }
   ],
   "source": [
    "import seaborn as sns\n",
    "\n",
    "# 1) Scatter of all data\n",
    "plt.figure(figsize=(8,5))\n",
    "sns.scatterplot(data=nyc, x='Year', y='Temperature')\n",
    "\n",
    "# 2) Add model line over the full range of years\n",
    "xmin, xmax = int(nyc['Year'].min()), int(nyc['Year'].max())\n",
    "# create an integer grid of years (inclusive)\n",
    "year_grid = pd.DataFrame({'Year': np.arange(xmin, xmax + 1, dtype=int)})\n",
    "# predict using the trained linear model\n",
    "temp_hat  = linreg.predict(year_grid)\n",
    "\n",
    "plt.plot(year_grid['Year'], temp_hat, linewidth=2, color='darkred')\n",
    "\n",
    "# Labels and title\n",
    "plt.title('NYC January Average High Temperature with Linear Trend')\n",
    "plt.xlabel('Year')\n",
    "plt.ylabel('Temperature (°F)')\n",
    "plt.tight_layout()\n",
    "plt.show()\n"
   ]
  },
  {
   "cell_type": "markdown",
   "id": "dd7abad9",
   "metadata": {},
   "source": [
    "### Interpretation and Notes\n",
    "\n",
    "- Long-term trend: the regression line shows a clear, gentle upward trend in January average high temperatures over the 1895–2018 record, indicating a gradual warming across the century-plus record.\n",
    "\n",
    "- Year-to-year variability: individual points scatter around the line, showing meaningful interannual variability (cold/warm years). This variability is expected from weather noise and short-term climate variability.\n",
    "\n",
    "- Model limitations: the fitted line is a simple linear model. It summarizes the average linear trend but does not capture potential non-linear behavior, decadal oscillations, or abrupt shifts. Use residual analysis, polynomial terms, or time-series methods (e.g., moving averages, ARIMA) if you need to model non-linear patterns.\n",
    "\n",
    "- Fit quality & diagnostics: report RMSE and R² from the model to quantify fit; inspect residuals for patterns (non-random residuals indicate model misspecification).\n",
    "\n",
    "- Practical note: the highlighted predicted point (2024) is a linear extrapolation — interpret it cautiously. Extrapolations beyond the observed range carry greater uncertainty.\n",
    "\n",
    "- Next steps: add a residual plot, compute confidence intervals for the regression, or try a locally weighted smoother (LOESS) to visualize non-linear trends.\n"
   ]
  }
 ],
 "metadata": {
  "kernelspec": {
   "display_name": ".venv",
   "language": "python",
   "name": "python3"
  },
  "language_info": {
   "codemirror_mode": {
    "name": "ipython",
    "version": 3
   },
   "file_extension": ".py",
   "mimetype": "text/x-python",
   "name": "python",
   "nbconvert_exporter": "python",
   "pygments_lexer": "ipython3",
   "version": "3.13.7"
  }
 },
 "nbformat": 4,
 "nbformat_minor": 5
}
