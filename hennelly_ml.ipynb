{
 "cells": [
  {
   "cell_type": "markdown",
   "id": "54aa5f5b-6f65-4916-bb69-de62633d6be7",
   "metadata": {},
   "source": [
    "# hennelly_ml.ipynb  \n",
    "**Author:** Kevin Hennelly  \n",
    "\n",
    "[GitHub Repository](https://github.com/KHenn22/datafun-07-ml)"
   ]
  },
  {
   "cell_type": "code",
   "execution_count": 1,
   "id": "61c22a11-9600-45fa-977a-bbd54b99994f",
   "metadata": {},
   "outputs": [],
   "source": [
    "# Import statements and setup\n",
    "import pandas as pd\n",
    "import numpy as np\n",
    "import matplotlib.pyplot as plt\n",
    "import seaborn as sns\n",
    "from sklearn.model_selection import train_test_split\n",
    "from sklearn.linear_model import LinearRegression\n",
    "from sklearn.metrics import mean_squared_error, r2_score\n",
    "\n",
    "# Optional: setup or naming conventions\n",
    "pd.set_option('display.max_columns', None)\n",
    "plt.style.use('seaborn-v0_8')"
   ]
  },
  {
   "cell_type": "markdown",
   "id": "9fc7bbcd-7b06-46a4-8997-1583b345fb26",
   "metadata": {},
   "source": [
    "## Part 1 – Chart a Straight Line\n",
    "\n",
    "This exercise follows the instructions from section 10.16 (page 414) to create a simple linear regression plot using Fahrenheit and Celsius temperature data.\n",
    "\n",
    "We will:\n",
    "1. Create temperature data using a simple formula.  \n",
    "2. Convert Fahrenheit to Celsius.  \n",
    "3. Plot the relationship as a straight line using pandas and matplotlib."
   ]
  },
  {
   "cell_type": "markdown",
   "id": "1225de20",
   "metadata": {},
   "source": [
    "### Step 1 – Import the Required Libraries"
   ]
  },
  {
   "cell_type": "code",
   "execution_count": 2,
   "id": "87a1c156",
   "metadata": {},
   "outputs": [],
   "source": [
    "import pandas as pd\n",
    "import matplotlib.pyplot as plt"
   ]
  },
  {
   "cell_type": "markdown",
   "id": "cfaaa01e",
   "metadata": {},
   "source": [
    "### Step 2 – Create the Temperature Data\n",
    "Make a list of Fahrenheit values from 0 to 100 (in steps of 10) and convert each one to Celsius using the formula:  \n",
    "**C = (F − 32) × 5 / 9**"
   ]
  },
  {
   "cell_type": "code",
   "execution_count": 3,
   "id": "f01d119f",
   "metadata": {},
   "outputs": [
    {
     "data": {
      "text/html": [
       "<div>\n",
       "<style scoped>\n",
       "    .dataframe tbody tr th:only-of-type {\n",
       "        vertical-align: middle;\n",
       "    }\n",
       "\n",
       "    .dataframe tbody tr th {\n",
       "        vertical-align: top;\n",
       "    }\n",
       "\n",
       "    .dataframe thead th {\n",
       "        text-align: right;\n",
       "    }\n",
       "</style>\n",
       "<table border=\"1\" class=\"dataframe\">\n",
       "  <thead>\n",
       "    <tr style=\"text-align: right;\">\n",
       "      <th></th>\n",
       "      <th>Fahrenheit</th>\n",
       "      <th>Celsius</th>\n",
       "    </tr>\n",
       "  </thead>\n",
       "  <tbody>\n",
       "    <tr>\n",
       "      <th>0</th>\n",
       "      <td>0</td>\n",
       "      <td>-17.777778</td>\n",
       "    </tr>\n",
       "    <tr>\n",
       "      <th>1</th>\n",
       "      <td>10</td>\n",
       "      <td>-12.222222</td>\n",
       "    </tr>\n",
       "    <tr>\n",
       "      <th>2</th>\n",
       "      <td>20</td>\n",
       "      <td>-6.666667</td>\n",
       "    </tr>\n",
       "    <tr>\n",
       "      <th>3</th>\n",
       "      <td>30</td>\n",
       "      <td>-1.111111</td>\n",
       "    </tr>\n",
       "    <tr>\n",
       "      <th>4</th>\n",
       "      <td>40</td>\n",
       "      <td>4.444444</td>\n",
       "    </tr>\n",
       "    <tr>\n",
       "      <th>5</th>\n",
       "      <td>50</td>\n",
       "      <td>10.000000</td>\n",
       "    </tr>\n",
       "    <tr>\n",
       "      <th>6</th>\n",
       "      <td>60</td>\n",
       "      <td>15.555556</td>\n",
       "    </tr>\n",
       "    <tr>\n",
       "      <th>7</th>\n",
       "      <td>70</td>\n",
       "      <td>21.111111</td>\n",
       "    </tr>\n",
       "    <tr>\n",
       "      <th>8</th>\n",
       "      <td>80</td>\n",
       "      <td>26.666667</td>\n",
       "    </tr>\n",
       "    <tr>\n",
       "      <th>9</th>\n",
       "      <td>90</td>\n",
       "      <td>32.222222</td>\n",
       "    </tr>\n",
       "    <tr>\n",
       "      <th>10</th>\n",
       "      <td>100</td>\n",
       "      <td>37.777778</td>\n",
       "    </tr>\n",
       "  </tbody>\n",
       "</table>\n",
       "</div>"
      ],
      "text/plain": [
       "    Fahrenheit    Celsius\n",
       "0            0 -17.777778\n",
       "1           10 -12.222222\n",
       "2           20  -6.666667\n",
       "3           30  -1.111111\n",
       "4           40   4.444444\n",
       "5           50  10.000000\n",
       "6           60  15.555556\n",
       "7           70  21.111111\n",
       "8           80  26.666667\n",
       "9           90  32.222222\n",
       "10         100  37.777778"
      ]
     },
     "execution_count": 3,
     "metadata": {},
     "output_type": "execute_result"
    }
   ],
   "source": [
    "temps = [(f, (f - 32) * 5/9) for f in range(0, 101, 10)]\n",
    "temps_df = pd.DataFrame(temps, columns=[\"Fahrenheit\", \"Celsius\"])\n",
    "temps_df"
   ]
  },
  {
   "cell_type": "markdown",
   "id": "af2beacd",
   "metadata": {},
   "source": [
    "### Step 3 – Plot the Straight Line\n",
    "Plot Celsius versus Fahrenheit as a simple line chart.  \n"
   ]
  },
  {
   "cell_type": "code",
   "execution_count": 4,
   "id": "c13ef1d8",
   "metadata": {},
   "outputs": [
    {
     "data": {
      "image/png": "[encoded data removed]",
      "text/plain": [
       "<Figure size 800x550 with 1 Axes>"
      ]
     },
     "metadata": {},
     "output_type": "display_data"
    }
   ],
   "source": [
    "plt.style.use(\"seaborn-v0_8\")\n",
    "\n",
    "temps_df.plot(\n",
    "    x=\"Fahrenheit\",\n",
    "    y=\"Celsius\",\n",
    "    kind=\"line\",\n",
    "    marker=\"o\",\n",
    "    title=\"Celsius vs Fahrenheit – Linear Relationship\"\n",
    ")\n",
    "\n",
    "plt.xlabel(\"Fahrenheit\")\n",
    "plt.ylabel(\"Celsius\")\n",
    "plt.grid(True)\n",
    "plt.show()"
   ]
  },
  {
   "cell_type": "markdown",
   "id": "9a5b9026",
   "metadata": {},
   "source": [
    "### Step 4 – Interpret the Chart\n",
    "\n",
    "The line is perfectly straigh thus showing a linear relationship between the two scales.  \n",
    "This can be written as the equation of a line: **y = mx + b**, where:\n",
    "\n",
    "- **m = 5 / 9** – the slope (rise over run)  \n",
    "- **b = –32 × 5 / 9 = –17.78** – the y-intercept  \n",
    "\n",
    "Each 1 °F increase results in a 5⁄9 °C increase."
   ]
  }
 ],
 "metadata": {
  "kernelspec": {
   "display_name": ".venv",
   "language": "python",
   "name": "python3"
  },
  "language_info": {
   "codemirror_mode": {
    "name": "ipython",
    "version": 3
   },
   "file_extension": ".py",
   "mimetype": "text/x-python",
   "name": "python",
   "nbconvert_exporter": "python",
   "pygments_lexer": "ipython3",
   "version": "3.13.7"
  }
 },
 "nbformat": 4,
 "nbformat_minor": 5
}
